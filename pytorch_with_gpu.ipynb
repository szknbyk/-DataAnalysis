{
  "nbformat": 4,
  "nbformat_minor": 0,
  "metadata": {
    "colab": {
      "name": "pytorch_with_gpu.ipynb",
      "provenance": [],
      "collapsed_sections": [],
      "mount_file_id": "1D0nBuZEARcmr6VCqTnM2oHhUZZgZIwP8",
      "authorship_tag": "ABX9TyPUJXakWBl9z83SaKKWWrkU",
      "include_colab_link": true
    },
    "kernelspec": {
      "name": "python3",
      "display_name": "Python 3"
    },
    "accelerator": "GPU"
  },
  "cells": [
    {
      "cell_type": "markdown",
      "metadata": {
        "id": "view-in-github",
        "colab_type": "text"
      },
      "source": [
        "<a href=\"https://colab.research.google.com/github/szknbyk/-DataAnalysis/blob/main/pytorch_with_gpu.ipynb\" target=\"_parent\"><img src=\"https://colab.research.google.com/assets/colab-badge.svg\" alt=\"Open In Colab\"/></a>"
      ]
    },
    {
      "cell_type": "code",
      "metadata": {
        "id": "Qxz1unXn6Biy"
      },
      "source": [
        "# !pip install torch torchvision"
      ],
      "execution_count": null,
      "outputs": []
    },
    {
      "cell_type": "code",
      "metadata": {
        "id": "HmLcoYNv6HDZ"
      },
      "source": [
        "# !pip install scikit-learn"
      ],
      "execution_count": null,
      "outputs": []
    },
    {
      "cell_type": "code",
      "metadata": {
        "id": "yQ9Cd7876LKA"
      },
      "source": [
        "import torch\n",
        "import matplotlib.pyplot as plt\n",
        "from sklearn.datasets import fetch_openml"
      ],
      "execution_count": null,
      "outputs": []
    },
    {
      "cell_type": "code",
      "metadata": {
        "id": "jex1LVC16OsQ"
      },
      "source": [
        "device = torch.device(\"cuda\" if torch.cuda.is_available() else \"cpu\")\n",
        "X, y = fetch_openml('mnist_784', version=1, return_X_y=True)\n",
        "X = X / 255\n",
        "y = [float(s) for s in y]"
      ],
      "execution_count": null,
      "outputs": []
    },
    {
      "cell_type": "code",
      "metadata": {
        "id": "GmaiRBhw2162",
        "outputId": "8f4d4c8f-5a12-4a27-d8e0-bbe751f7e15d",
        "colab": {
          "base_uri": "https://localhost:8080/"
        }
      },
      "source": [
        "X.shape"
      ],
      "execution_count": null,
      "outputs": [
        {
          "output_type": "execute_result",
          "data": {
            "text/plain": [
              "(70000, 784)"
            ]
          },
          "metadata": {
            "tags": []
          },
          "execution_count": 5
        }
      ]
    },
    {
      "cell_type": "code",
      "metadata": {
        "id": "fGqkxyLc6TUA",
        "outputId": "f57638d7-f1f2-4ff3-a01b-ac415a73b3a8",
        "colab": {
          "base_uri": "https://localhost:8080/",
          "height": 282
        }
      },
      "source": [
        "# 学習データの表示例\n",
        "\n",
        "plt.imshow(X[7].reshape(28,28), cmap=plt.cm.gray)\n",
        "print(\"{:.0f}\".format(y[7]))"
      ],
      "execution_count": null,
      "outputs": [
        {
          "output_type": "stream",
          "text": [
            "3\n"
          ],
          "name": "stdout"
        },
        {
          "output_type": "display_data",
          "data": {
            "image/png": "[encoded data removed]",
            "text/plain": [
              "<Figure size 432x288 with 1 Axes>"
            ]
          },
          "metadata": {
            "tags": [],
            "needs_background": "light"
          }
        }
      ]
    },
    {
      "cell_type": "code",
      "metadata": {
        "id": "BhzEB8rd6ajo",
        "outputId": "0f036706-5a95-4fb1-b822-392582359a9a",
        "colab": {
          "base_uri": "https://localhost:8080/"
        }
      },
      "source": [
        "# 2. DataLoader作成\n",
        "\n",
        "from torch.utils.data import TensorDataset, DataLoader\n",
        "from sklearn.model_selection import train_test_split\n",
        "\n",
        "X_train, X_test, y_train, y_test = train_test_split(X, y, test_size=1/7, random_state=0)\n",
        "\n",
        "print(type(y_train[0]))\n",
        "\n",
        "X_train = torch.Tensor(X_train)\n",
        "X_test = torch.Tensor(X_test)\n",
        "y_train = torch.LongTensor(y_train)\n",
        "y_test = torch.LongTensor(y_test)\n",
        "\n",
        "ds_train = TensorDataset(X_train, y_train)\n",
        "ds_test = TensorDataset(X_test, y_test)\n",
        "\n",
        "loader_train = DataLoader(ds_train, batch_size=70, shuffle=True)\n",
        "loader_test = DataLoader(ds_test, batch_size=70, shuffle=False)"
      ],
      "execution_count": null,
      "outputs": [
        {
          "output_type": "stream",
          "text": [
            "<class 'float'>\n"
          ],
          "name": "stdout"
        }
      ]
    },
    {
      "cell_type": "code",
      "metadata": {
        "id": "1m_R_6ez6deH"
      },
      "source": [
        "# # 3. ネットワーク構築\n",
        "\n",
        "# from torch import nn\n",
        "\n",
        "# model = nn.Sequential()\n",
        "# model.add_module('fc1', nn.Linear(28*28*1, 100))\n",
        "# model.add_module('relu1', nn.ReLU())\n",
        "# model.add_module('fc2', nn.Linear(100, 100))\n",
        "# model.add_module('relu2', nn.ReLU())\n",
        "# model.add_module('fc3', nn.Linear(100, 10))\n",
        "\n",
        "# model.to(device)\n",
        "# print(model)"
      ],
      "execution_count": null,
      "outputs": []
    },
    {
      "cell_type": "code",
      "metadata": {
        "id": "14WOi7QIkI-_",
        "outputId": "6ccbe95c-529d-462b-8ee3-598e2a961703",
        "colab": {
          "base_uri": "https://localhost:8080/"
        }
      },
      "source": [
        "from torch.autograd import Variable\n",
        "import torch.nn as nn\n",
        "import torch.nn.functional as F\n",
        "\n",
        "class Model(nn.Module):\n",
        "    def __init__(self):\n",
        "        super(Model, self).__init__()\n",
        "        self.conv1 = nn.Conv2d(in_channels=1,\n",
        "                               out_channels=16,\n",
        "                               kernel_size=3,\n",
        "                               stride=1,\n",
        "                               padding=1)\n",
        "        \n",
        "        self.conv2 = nn.Conv2d(in_channels=16,\n",
        "                               out_channels=32,\n",
        "                               kernel_size=3,\n",
        "                               stride=1,\n",
        "                               padding=1)\n",
        "        \n",
        "        self.conv3 = nn.Conv2d(in_channels=32,\n",
        "                               out_channels=64,\n",
        "                               kernel_size=3,\n",
        "                               stride=1,\n",
        "                               padding=1)\n",
        "        \n",
        "        self.bn1 = nn.BatchNorm2d(num_features=16)\n",
        "        self.bn2 = nn.BatchNorm2d(num_features=32)\n",
        "        self.bn3 = nn.BatchNorm2d(num_features=64)\n",
        "\n",
        "        self.fc1 = nn.Linear(64 * 28 * 28, 10)\n",
        "\n",
        "    def forward(self, x):\n",
        "        x = F.relu(self.bn1(self.conv1(x)))\n",
        "        x = F.relu(self.bn2(self.conv2(x)))\n",
        "        x = F.relu(self.bn3(self.conv3(x)))\n",
        "        x = x.view(-1, 64 * 28 * 28)\n",
        "        x = self.fc1(x)\n",
        "        return x\n",
        "\n",
        "\n",
        "model = Model()\n",
        "model.to(device)\n",
        "print(model)"
      ],
      "execution_count": null,
      "outputs": [
        {
          "output_type": "stream",
          "text": [
            "Model(\n",
            "  (conv1): Conv2d(1, 16, kernel_size=(3, 3), stride=(1, 1), padding=(1, 1))\n",
            "  (conv2): Conv2d(16, 32, kernel_size=(3, 3), stride=(1, 1), padding=(1, 1))\n",
            "  (conv3): Conv2d(32, 64, kernel_size=(3, 3), stride=(1, 1), padding=(1, 1))\n",
            "  (bn1): BatchNorm2d(16, eps=1e-05, momentum=0.1, affine=True, track_running_stats=True)\n",
            "  (bn2): BatchNorm2d(32, eps=1e-05, momentum=0.1, affine=True, track_running_stats=True)\n",
            "  (bn3): BatchNorm2d(64, eps=1e-05, momentum=0.1, affine=True, track_running_stats=True)\n",
            "  (fc1): Linear(in_features=50176, out_features=10, bias=True)\n",
            ")\n"
          ],
          "name": "stdout"
        }
      ]
    },
    {
      "cell_type": "code",
      "metadata": {
        "id": "7ltCoH2F6ggX"
      },
      "source": [
        "# 4. 誤差関数と最適化手法の設定\n",
        "\n",
        "from torch import optim\n",
        "\n",
        "loss_fn = nn.CrossEntropyLoss()\n",
        "optimizer = optim.Adam(model.parameters(), lr=0.01)"
      ],
      "execution_count": null,
      "outputs": []
    },
    {
      "cell_type": "code",
      "metadata": {
        "id": "mVD00q5I6ifv"
      },
      "source": [
        "# 5. 学習の設定\n",
        "\n",
        "def train(epoch):\n",
        "  model.train()\n",
        "  correct = 0\n",
        "\n",
        "  for data, targets in loader_train:\n",
        "    data, targets = data.to(device), targets.to(device)\n",
        "\n",
        "    data = data.reshape((-1, 1, 28, 28))\n",
        "\n",
        "    optimizer.zero_grad()\n",
        "    outputs = model(data)\n",
        "    loss = loss_fn(outputs, targets)\n",
        "\n",
        "    loss.backward()\n",
        "    optimizer.step()\n",
        "\n",
        "    _, predicted = torch.max(outputs.data, 1)\n",
        "    correct += predicted.eq(targets.data.view_as(predicted)).sum()\n",
        "\n",
        "  data_num = len(loader_train.dataset)\n",
        "  print('\\n訓練データの正解率：{}/{}({:.0f}%)\\n'.format(correct, data_num, 100. * correct /data_num))\n",
        "\n",
        "  print(\"epoch{}:終了\\n\".format(epoch))"
      ],
      "execution_count": null,
      "outputs": []
    },
    {
      "cell_type": "code",
      "metadata": {
        "id": "8BKBhidq6kqv"
      },
      "source": [
        "# 6. 推論の設定\n",
        "\n",
        "def test():\n",
        "  model.eval()\n",
        "  correct = 0\n",
        "\n",
        "  with torch.no_grad():\n",
        "    for data, targets in loader_test:\n",
        "      data, targets = data.to(device), targets.to(device)\n",
        "\n",
        "      data = data.reshape((-1, 1, 28, 28))\n",
        "\n",
        "      outputs = model(data)\n",
        "\n",
        "      _, predicted = torch.max(outputs.data, 1)\n",
        "      correct += predicted.eq(targets.data.view_as(predicted)).sum()\n",
        "\n",
        "  data_num = len(loader_test.dataset)\n",
        "  print('\\nテストデータの正解率：{}/{}({:.0f}%)\\n'.format(correct, data_num, 100. * correct /data_num))"
      ],
      "execution_count": null,
      "outputs": []
    },
    {
      "cell_type": "code",
      "metadata": {
        "id": "28_oDHQS6off",
        "outputId": "edd8db27-ff01-4f09-fdd8-4b83ee60494c",
        "colab": {
          "base_uri": "https://localhost:8080/"
        }
      },
      "source": [
        "# 学習前のテストデータ正解率\n",
        "\n",
        "test()"
      ],
      "execution_count": null,
      "outputs": [
        {
          "output_type": "stream",
          "text": [
            "\n",
            "テストデータの正解率：952/10000(10%)\n",
            "\n"
          ],
          "name": "stdout"
        }
      ]
    },
    {
      "cell_type": "code",
      "metadata": {
        "id": "gl9a8pDM6qm3",
        "outputId": "bfffe1ec-c269-49f2-cc23-2bec6830dfc9",
        "colab": {
          "base_uri": "https://localhost:8080/"
        }
      },
      "source": [
        "# 7. 学習後のテストデータ正解率\n",
        "\n",
        "for epoch in range(20):\n",
        "  train(epoch)\n",
        "  test()"
      ],
      "execution_count": null,
      "outputs": [
        {
          "output_type": "stream",
          "text": [
            "\n",
            "訓練データの正解率：56966/60000(95%)\n",
            "\n",
            "epoch0:終了\n",
            "\n",
            "\n",
            "テストデータの正解率：9755/10000(98%)\n",
            "\n",
            "\n",
            "訓練データの正解率：59025/60000(98%)\n",
            "\n",
            "epoch1:終了\n",
            "\n",
            "\n",
            "テストデータの正解率：9800/10000(98%)\n",
            "\n",
            "\n",
            "訓練データの正解率：59196/60000(99%)\n",
            "\n",
            "epoch2:終了\n",
            "\n",
            "\n",
            "テストデータの正解率：9750/10000(98%)\n",
            "\n",
            "\n",
            "訓練データの正解率：59224/60000(99%)\n",
            "\n",
            "epoch3:終了\n",
            "\n",
            "\n",
            "テストデータの正解率：9760/10000(98%)\n",
            "\n",
            "\n",
            "訓練データの正解率：59243/60000(99%)\n",
            "\n",
            "epoch4:終了\n",
            "\n",
            "\n",
            "テストデータの正解率：9788/10000(98%)\n",
            "\n",
            "\n",
            "訓練データの正解率：59249/60000(99%)\n",
            "\n",
            "epoch5:終了\n",
            "\n",
            "\n",
            "テストデータの正解率：9739/10000(97%)\n",
            "\n",
            "\n",
            "訓練データの正解率：59305/60000(99%)\n",
            "\n",
            "epoch6:終了\n",
            "\n",
            "\n",
            "テストデータの正解率：9671/10000(97%)\n",
            "\n",
            "\n",
            "訓練データの正解率：59441/60000(99%)\n",
            "\n",
            "epoch7:終了\n",
            "\n",
            "\n",
            "テストデータの正解率：9821/10000(98%)\n",
            "\n",
            "\n",
            "訓練データの正解率：59320/60000(99%)\n",
            "\n",
            "epoch8:終了\n",
            "\n",
            "\n",
            "テストデータの正解率：9800/10000(98%)\n",
            "\n",
            "\n",
            "訓練データの正解率：59513/60000(99%)\n",
            "\n",
            "epoch9:終了\n",
            "\n",
            "\n",
            "テストデータの正解率：9845/10000(98%)\n",
            "\n",
            "\n",
            "訓練データの正解率：59603/60000(99%)\n",
            "\n",
            "epoch10:終了\n",
            "\n",
            "\n",
            "テストデータの正解率：9842/10000(98%)\n",
            "\n",
            "\n",
            "訓練データの正解率：59636/60000(99%)\n",
            "\n",
            "epoch11:終了\n",
            "\n",
            "\n",
            "テストデータの正解率：9854/10000(99%)\n",
            "\n",
            "\n",
            "訓練データの正解率：59648/60000(99%)\n",
            "\n",
            "epoch12:終了\n",
            "\n",
            "\n",
            "テストデータの正解率：9842/10000(98%)\n",
            "\n",
            "\n",
            "訓練データの正解率：59661/60000(99%)\n",
            "\n",
            "epoch13:終了\n",
            "\n",
            "\n",
            "テストデータの正解率：9857/10000(99%)\n",
            "\n",
            "\n",
            "訓練データの正解率：59727/60000(100%)\n",
            "\n",
            "epoch14:終了\n",
            "\n",
            "\n",
            "テストデータの正解率：9747/10000(97%)\n",
            "\n",
            "\n",
            "訓練データの正解率：59680/60000(99%)\n",
            "\n",
            "epoch15:終了\n",
            "\n",
            "\n",
            "テストデータの正解率：9828/10000(98%)\n",
            "\n",
            "\n",
            "訓練データの正解率：59771/60000(100%)\n",
            "\n",
            "epoch16:終了\n",
            "\n",
            "\n",
            "テストデータの正解率：9842/10000(98%)\n",
            "\n",
            "\n",
            "訓練データの正解率：59791/60000(100%)\n",
            "\n",
            "epoch17:終了\n",
            "\n",
            "\n",
            "テストデータの正解率：9834/10000(98%)\n",
            "\n",
            "\n",
            "訓練データの正解率：59802/60000(100%)\n",
            "\n",
            "epoch18:終了\n",
            "\n",
            "\n",
            "テストデータの正解率：9836/10000(98%)\n",
            "\n",
            "\n",
            "訓練データの正解率：59839/60000(100%)\n",
            "\n",
            "epoch19:終了\n",
            "\n",
            "\n",
            "テストデータの正解率：9840/10000(98%)\n",
            "\n"
          ],
          "name": "stdout"
        }
      ]
    },
    {
      "cell_type": "code",
      "metadata": {
        "id": "ou0mRW0i7YEZ",
        "outputId": "3cbb7fa1-16c8-4adf-a68d-7262de8a609c",
        "colab": {
          "base_uri": "https://localhost:8080/",
          "height": 299
        }
      },
      "source": [
        "# 8. 2019番目データの予測と正解結果の確認\n",
        "\n",
        "import numpy as np\n",
        "\n",
        "# index = 2019\n",
        "index = np.random.randint(0, 10000)\n",
        "\n",
        "model.eval()\n",
        "data = X_test[index]\n",
        "\n",
        "data = data.reshape(-1, 1, 28, 28)\n",
        "\n",
        "data = data.to(device)\n",
        "output = model(data)\n",
        "_, predicted = torch.max(output.data, 0)\n",
        "\n",
        "print(\"予測結果は{}\".format(predicted))\n",
        "\n",
        "X_test_show = (X_test[index]).numpy()\n",
        "plt.imshow(X_test_show.reshape(28, 28), cmap='gray')\n",
        "print(\"この画像データの正解ラベルは{:.0f}です\".format(y_test[index]))"
      ],
      "execution_count": null,
      "outputs": [
        {
          "output_type": "stream",
          "text": [
            "予測結果はtensor([0, 0, 0, 0, 0, 0, 0, 0, 0, 0], device='cuda:0')\n",
            "この画像データの正解ラベルは4です\n"
          ],
          "name": "stdout"
        },
        {
          "output_type": "display_data",
          "data": {
            "image/png": "[encoded data removed]",
            "text/plain": [
              "<Figure size 432x288 with 1 Axes>"
            ]
          },
          "metadata": {
            "tags": [],
            "needs_background": "light"
          }
        }
      ]
    },
    {
      "cell_type": "code",
      "metadata": {
        "id": "8JgYX4sY7e9I",
        "outputId": "740847c7-bdee-4f1e-ca18-92a1d89a3fa8",
        "colab": {
          "base_uri": "https://localhost:8080/"
        }
      },
      "source": [
        "# 利用した PyTorch のバージョン\n",
        "\n",
        "print(torch.__version__)"
      ],
      "execution_count": null,
      "outputs": [
        {
          "output_type": "stream",
          "text": [
            "1.7.0+cu101\n"
          ],
          "name": "stdout"
        }
      ]
    },
    {
      "cell_type": "code",
      "metadata": {
        "id": "esZuxb4t7hRg"
      },
      "source": [
        ""
      ],
      "execution_count": null,
      "outputs": []
    }
  ]
}